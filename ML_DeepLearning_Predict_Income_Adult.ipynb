{
  "nbformat": 4,
  "nbformat_minor": 0,
  "metadata": {
    "colab": {
      "name": "ML_DeepLearning_Predict_Income_Adult.ipynb",
      "provenance": [],
      "collapsed_sections": [],
      "authorship_tag": "ABX9TyN8xHmDHtO+7Pl0HRN6YY8s",
      "include_colab_link": true
    },
    "kernelspec": {
      "name": "python3",
      "display_name": "Python 3"
    },
    "language_info": {
      "name": "python"
    }
  },
  "cells": [
    {
      "cell_type": "markdown",
      "metadata": {
        "id": "view-in-github",
        "colab_type": "text"
      },
      "source": [
        "<a href=\"https://colab.research.google.com/github/woodstone10/machine_learning_study-python/blob/main/ML_DeepLearning_Predict_Income_Adult.ipynb\" target=\"_parent\"><img src=\"https://colab.research.google.com/assets/colab-badge.svg\" alt=\"Open In Colab\"/></a>"
      ]
    },
    {
      "cell_type": "code",
      "metadata": {
        "id": "iQ8X_PruBww2"
      },
      "source": [
        "###########################################################################################\n",
        "#\n",
        "# ML_DeepLearning_Predict_Income_Adult.py\n",
        "#\n",
        "# Predict whether income exceeds $50K/yr based on census data. Also known as \"Census Income\" dataset.\n",
        "# UCI data set name: Adult (https://archive.ics.uci.edu/ml/machine-learning-databases/adult/)\n",
        "#\n",
        "# Created by Jonggil Nam\n",
        "# LinkedIn: https://www.linkedin.com/in/jonggil-nam-6099a162/\n",
        "# Github: https://github.com/woodstone10\n",
        "# e-mail: woodstone10@gmail.com\n",
        "# phone: +82-10-8709-6299\n",
        "###########################################################################################\n",
        "\n",
        "import numpy as np\n",
        "import pandas as pd\n",
        "import matplotlib.pyplot as plt\n",
        "import tensorflow as tf\n",
        "import sklearn.model_selection\n",
        "import sklearn.preprocessing\n",
        "import sklearn.metrics\n",
        "import sklearn.linear_model\n",
        "import sklearn.ensemble\n",
        "import sklearn.neural_network\n",
        "import sklearn.naive_bayes\n",
        "import sklearn.tree\n",
        "import sklearn.svm"
      ],
      "execution_count": 1,
      "outputs": []
    },
    {
      "cell_type": "code",
      "metadata": {
        "colab": {
          "base_uri": "https://localhost:8080/"
        },
        "id": "SGhUIpg-PhpE",
        "outputId": "4782634d-7855-467f-ae6a-029c77165948"
      },
      "source": [
        "# Data set from UCI Machine Learning Repository\n",
        "#  - https://archive.ics.uci.edu/ml/machine-learning-databases/adult/\n",
        "# Listing of attributes:\n",
        "# 1. age: continuous.\n",
        "# 2. workclass: Private, Self-emp-not-inc, Self-emp-inc, Federal-gov, Local-gov,\n",
        "#       State-gov, Without-pay, Never-worked.\n",
        "# 3. fnlwgt: continuous.\n",
        "# 4. education: Bachelors, Some-college, 11th, HS-grad, Prof-school, Assoc-acdm, Assoc-voc,\n",
        "#       9th, 7th-8th, 12th, Masters, 1st-4th, 10th, Doctorate, 5th-6th, Preschool.\n",
        "# 5. education-num: continuous.\n",
        "# 6. marital-status: Married-civ-spouse, Divorced, Never-married, Separated, Widowed,\n",
        "#       Married-spouse-absent, Married-AF-spouse.\n",
        "# 7. occupation: Tech-support, Craft-repair, Other-service, Sales, Exec-managerial,\n",
        "#       Prof-specialty, Handlers-cleaners, Machine-op-inspct, Adm-clerical, Farming-fishing, Transport-moving,\n",
        "#       Priv-house-serv, Protective-serv, Armed-Forces.\n",
        "# 8. relationship: Wife, Own-child, Husband, Not-in-family, Other-relative, Unmarried.\n",
        "# 9. race: White, Asian-Pac-Islander, Amer-Indian-Eskimo, Other, Black.\n",
        "# 10. sex: Female, Male.\n",
        "# 11. capital-gain: continuous.\n",
        "# 12. capital-loss: continuous.\n",
        "# 13. hours-per-week: continuous.\n",
        "# 14. native-country: United-States, Cambodia, England, Puerto-Rico,\n",
        "#       Canada, Germany, Outlying-US(Guam-USVI-etc), India, Japan, Greece, South, China, Cuba, Iran, Honduras,\n",
        "#       Philippines, Italy, Poland, Jamaica, Vietnam, Mexico, Portugal, Ireland, France, Dominican-Republic,\n",
        "#       Laos, Ecuador, Taiwan, Haiti, Columbia, Hungary, Guatemala, Nicaragua, Scotland, Thailand, Yugoslavia,\n",
        "#       El-Salvador, Trinadad&Tobago, Peru, Hong, Holand-Netherlands.\n",
        "\n",
        "# dataset from github (UCI)\n",
        "#a = pd.read_csv('https://raw.githubusercontent.com/woodstone10/dataset/main/adult.data', error_bad_lines=False)\n",
        "a = pd.read_csv('https://raw.githubusercontent.com/woodstone10/dataset/main/adult.data', sep= ',', header= None,skiprows=1)\n",
        "b = pd.read_csv('https://raw.githubusercontent.com/woodstone10/dataset/main/adult.test', sep= ',', header= None,skiprows=1)\n",
        "df = pd.concat([a, b])\n",
        "print(df.head())"
      ],
      "execution_count": 5,
      "outputs": [
        {
          "output_type": "stream",
          "text": [
            "   0                  1       2           3   ...  11  12              13      14\n",
            "0  50   Self-emp-not-inc   83311   Bachelors  ...   0  13   United-States   <=50K\n",
            "1  38            Private  215646     HS-grad  ...   0  40   United-States   <=50K\n",
            "2  53            Private  234721        11th  ...   0  40   United-States   <=50K\n",
            "3  28            Private  338409   Bachelors  ...   0  40            Cuba   <=50K\n",
            "4  37            Private  284582     Masters  ...   0  40   United-States   <=50K\n",
            "\n",
            "[5 rows x 15 columns]\n"
          ],
          "name": "stdout"
        }
      ]
    },
    {
      "cell_type": "code",
      "metadata": {
        "colab": {
          "base_uri": "https://localhost:8080/"
        },
        "id": "JBy3OMdBT8Yh",
        "outputId": "f7d0304e-8c49-4501-bfcf-cee3d910d705"
      },
      "source": [
        "data = df\n",
        "data.replace({\n",
        "    ' <=50K':0,\n",
        "    ' <=50K.':0,\n",
        "    ' >50K':1,\n",
        "    ' >50K.':1,\n",
        "},inplace=True)\n",
        "print(data.head())\n"
      ],
      "execution_count": 6,
      "outputs": [
        {
          "output_type": "stream",
          "text": [
            "   0                  1       2           3   ...  11  12              13 14\n",
            "0  50   Self-emp-not-inc   83311   Bachelors  ...   0  13   United-States  0\n",
            "1  38            Private  215646     HS-grad  ...   0  40   United-States  0\n",
            "2  53            Private  234721        11th  ...   0  40   United-States  0\n",
            "3  28            Private  338409   Bachelors  ...   0  40            Cuba  0\n",
            "4  37            Private  284582     Masters  ...   0  40   United-States  0\n",
            "\n",
            "[5 rows x 15 columns]\n"
          ],
          "name": "stdout"
        }
      ]
    },
    {
      "cell_type": "code",
      "metadata": {
        "colab": {
          "base_uri": "https://localhost:8080/"
        },
        "id": "uLwnyGxUFTYu",
        "outputId": "74cbc7e6-8e85-4c7d-cd6d-a3f14c2ffcc5"
      },
      "source": [
        "# encoding using sklearn LabelEncoder (string to numeric)\n",
        "transform_needed = [False, True, False, True, False, True, True, True, True, True, False, False, False, True, False]\n",
        "encoded_data = np.zeros(shape=(data.shape[0], data.shape[1]), dtype=np.int)\n",
        "for i in range(len(transform_needed)):\n",
        "    if transform_needed[i]:\n",
        "        tmp_data = data.iloc[:, i].tolist()\n",
        "        encoder = sklearn.preprocessing.LabelEncoder()\n",
        "        encoder.fit(tmp_data)\n",
        "        encoded_data[:, i] = encoder.transform(tmp_data)\n",
        "    else:\n",
        "        encoded_data[:, i] = data.iloc[:, i].tolist()\n",
        "print(encoded_data)\n"
      ],
      "execution_count": 7,
      "outputs": [
        {
          "output_type": "stream",
          "text": [
            "[[    50      6  83311 ...     13     39      0]\n",
            " [    38      4 215646 ...     40     39      0]\n",
            " [    53      4 234721 ...     40     39      0]\n",
            " ...\n",
            " [    38      4 374983 ...     50     39      0]\n",
            " [    44      4  83891 ...     40     39      0]\n",
            " [    35      5 182148 ...     60     39      1]]\n"
          ],
          "name": "stdout"
        }
      ]
    },
    {
      "cell_type": "code",
      "metadata": {
        "colab": {
          "base_uri": "https://localhost:8080/"
        },
        "id": "wfYI0spzG6Cd",
        "outputId": "d6b4e891-c915-4bff-be6c-269cc346282a"
      },
      "source": [
        "# encoded data X and y\n",
        "X = encoded_data[:,:14]\n",
        "y = encoded_data[:,14]\n",
        "print(X)"
      ],
      "execution_count": 8,
      "outputs": [
        {
          "output_type": "stream",
          "text": [
            "[[    50      6  83311 ...      0     13     39]\n",
            " [    38      4 215646 ...      0     40     39]\n",
            " [    53      4 234721 ...      0     40     39]\n",
            " ...\n",
            " [    38      4 374983 ...      0     50     39]\n",
            " [    44      4  83891 ...      0     40     39]\n",
            " [    35      5 182148 ...      0     60     39]]\n"
          ],
          "name": "stdout"
        }
      ]
    },
    {
      "cell_type": "code",
      "metadata": {
        "colab": {
          "base_uri": "https://localhost:8080/"
        },
        "id": "zLWuHhcbG8pb",
        "outputId": "edd08baa-6110-44cd-bb0e-7530994adfac"
      },
      "source": [
        "# encoded data split into train 80%, test 20%\n",
        "X_train, X_test, y_train, y_test = sklearn.model_selection.train_test_split(X, y, test_size=0.2)\n",
        "print(\"total data size:\",X.shape, \"train data size:\",X_train.shape, \"test data size:\",X_test.shape)\n"
      ],
      "execution_count": 9,
      "outputs": [
        {
          "output_type": "stream",
          "text": [
            "total data size: (48841, 14) train data size: (39072, 14) test data size: (9769, 14)\n"
          ],
          "name": "stdout"
        }
      ]
    },
    {
      "cell_type": "code",
      "metadata": {
        "colab": {
          "base_uri": "https://localhost:8080/",
          "height": 1000
        },
        "id": "o5FwjHybHCyS",
        "outputId": "59d98017-bd3b-45b6-ef63-4842b2765aa2"
      },
      "source": [
        "# ------------------------------------------------------------------\n",
        "# Model. Artificial Neural Network Deep Learning using Keras high-level API\n",
        "# ------------------------------------------------------------------\n",
        "model = tf.keras.Sequential([\n",
        "        tf.keras.layers.Dense(32, input_shape=X_train[1].shape, activation='relu'),\n",
        "        tf.keras.layers.Dropout(0.3), # for reduce overfitting\n",
        "        tf.keras.layers.Dense(16, activation='relu'),\n",
        "        tf.keras.layers.Dropout(0.3), # for reduce overfitting\n",
        "        tf.keras.layers.Dense(8, activation='relu'),\n",
        "        tf.keras.layers.Dropout(0.3), # for reduce overfitting\n",
        "        tf.keras.layers.Dense(1, activation='sigmoid') # output is 1 or o, so sigmoid function is used\n",
        "])\n",
        "\n",
        "model.compile(\n",
        "    optimizer=tf.keras.optimizers.Adam(lr=0.001, beta_1=0.9, beta_2=0.999),\n",
        "    loss=tf.keras.losses.binary_crossentropy, # prediction is 1 or 0, so binary_crossentropy is selected.\n",
        "    metrics=['accuracy']\n",
        ")\n",
        "\n",
        "train = model.fit(X_train, y_train,\n",
        "                    validation_split=0.3, # train data split into train 70%, validation 30%\n",
        "                    epochs=50,\n",
        "                    verbose=1 # online display with progressbar\n",
        "                    )\n",
        "\n",
        "# Learning curve (loss and accuracy)\n",
        "train_acc = train.history['accuracy']\n",
        "train_loss = train.history['loss']\n",
        "val_acc = train.history['val_accuracy']\n",
        "val_loss = train.history['val_loss']\n",
        "\n",
        "plt.figure(figsize=(10, 5))\n",
        "plt.subplot(1, 2, 1)\n",
        "plt.plot(np.arange((len(train_acc))), train_acc, label='train accuracy')\n",
        "plt.plot(np.arange((len(val_acc))), val_acc, label='validation accuracy')\n",
        "plt.legend(loc='best')\n",
        "plt.xlabel('epochs')\n",
        "plt.ylabel('accuracy')\n",
        "plt.subplot(1, 2, 2)\n",
        "plt.plot(np.arange((len(train_loss))), train_loss, label='train loss')\n",
        "plt.plot(np.arange((len(val_loss))), val_loss, label='validation loss')\n",
        "plt.legend(loc='best')\n",
        "plt.xlabel('epochs')\n",
        "plt.ylabel('loss')\n",
        "plt.suptitle('Learning Curve \\n Deep Learning of Adult (Predict Income >|<= 50k)', fontsize=15)\n",
        "plt.tight_layout()\n",
        "plt.show()\n",
        "\n",
        "test_loss, test_acc = model.evaluate(X_test, y_test)\n",
        "print(\"-\"*30)\n",
        "print(\"Test Accuracy\")\n",
        "print(\"-\"*30)\n",
        "print(\"Deep Learning with Neural Network:\", test_acc)"
      ],
      "execution_count": 11,
      "outputs": [
        {
          "output_type": "stream",
          "text": [
            "Epoch 1/50\n",
            "855/855 [==============================] - 2s 2ms/step - loss: 1254.7805 - accuracy: 0.6377 - val_loss: 0.5822 - val_accuracy: 0.7670\n",
            "Epoch 2/50\n",
            "855/855 [==============================] - 2s 2ms/step - loss: 24.4966 - accuracy: 0.7241 - val_loss: 0.5541 - val_accuracy: 0.7670\n",
            "Epoch 3/50\n",
            "855/855 [==============================] - 2s 2ms/step - loss: 6.6491 - accuracy: 0.7298 - val_loss: 0.5456 - val_accuracy: 0.7670\n",
            "Epoch 4/50\n",
            "855/855 [==============================] - 2s 2ms/step - loss: 2.9443 - accuracy: 0.7477 - val_loss: 0.5437 - val_accuracy: 0.7670\n",
            "Epoch 5/50\n",
            "855/855 [==============================] - 2s 2ms/step - loss: 1.7498 - accuracy: 0.7446 - val_loss: 0.5432 - val_accuracy: 0.7670\n",
            "Epoch 6/50\n",
            "855/855 [==============================] - 2s 2ms/step - loss: 1.0309 - accuracy: 0.7489 - val_loss: 0.5431 - val_accuracy: 0.7670\n",
            "Epoch 7/50\n",
            "855/855 [==============================] - 2s 2ms/step - loss: 0.9369 - accuracy: 0.7521 - val_loss: 0.5431 - val_accuracy: 0.7670\n",
            "Epoch 8/50\n",
            "855/855 [==============================] - 2s 2ms/step - loss: 1.9529 - accuracy: 0.7579 - val_loss: 0.5432 - val_accuracy: 0.7670\n",
            "Epoch 9/50\n",
            "855/855 [==============================] - 2s 2ms/step - loss: 1.2012 - accuracy: 0.7544 - val_loss: 0.5431 - val_accuracy: 0.7670\n",
            "Epoch 10/50\n",
            "855/855 [==============================] - 2s 2ms/step - loss: 2.1617 - accuracy: 0.7566 - val_loss: 0.5431 - val_accuracy: 0.7670\n",
            "Epoch 11/50\n",
            "855/855 [==============================] - 2s 2ms/step - loss: 0.6353 - accuracy: 0.7566 - val_loss: 0.5430 - val_accuracy: 0.7670\n",
            "Epoch 12/50\n",
            "855/855 [==============================] - 2s 2ms/step - loss: 0.6304 - accuracy: 0.7570 - val_loss: 0.5429 - val_accuracy: 0.7670\n",
            "Epoch 13/50\n",
            "855/855 [==============================] - 2s 2ms/step - loss: 0.5848 - accuracy: 0.7623 - val_loss: 0.5431 - val_accuracy: 0.7670\n",
            "Epoch 14/50\n",
            "855/855 [==============================] - 2s 2ms/step - loss: 0.5586 - accuracy: 0.7634 - val_loss: 0.5431 - val_accuracy: 0.7670\n",
            "Epoch 15/50\n",
            "855/855 [==============================] - 2s 2ms/step - loss: 0.5920 - accuracy: 0.7551 - val_loss: 0.5429 - val_accuracy: 0.7670\n",
            "Epoch 16/50\n",
            "855/855 [==============================] - 2s 2ms/step - loss: 0.5637 - accuracy: 0.7579 - val_loss: 0.5430 - val_accuracy: 0.7670\n",
            "Epoch 17/50\n",
            "855/855 [==============================] - 2s 2ms/step - loss: 0.6115 - accuracy: 0.7549 - val_loss: 0.5429 - val_accuracy: 0.7670\n",
            "Epoch 18/50\n",
            "855/855 [==============================] - 2s 2ms/step - loss: 0.5635 - accuracy: 0.7559 - val_loss: 0.5429 - val_accuracy: 0.7670\n",
            "Epoch 19/50\n",
            "855/855 [==============================] - 2s 2ms/step - loss: 0.6410 - accuracy: 0.7657 - val_loss: 0.5430 - val_accuracy: 0.7670\n",
            "Epoch 20/50\n",
            "855/855 [==============================] - 2s 2ms/step - loss: 0.5512 - accuracy: 0.7599 - val_loss: 0.5430 - val_accuracy: 0.7670\n",
            "Epoch 21/50\n",
            "855/855 [==============================] - 2s 2ms/step - loss: 0.5534 - accuracy: 0.7580 - val_loss: 0.5430 - val_accuracy: 0.7670\n",
            "Epoch 22/50\n",
            "855/855 [==============================] - 2s 2ms/step - loss: 0.5652 - accuracy: 0.7627 - val_loss: 0.5430 - val_accuracy: 0.7670\n",
            "Epoch 23/50\n",
            "855/855 [==============================] - 2s 2ms/step - loss: 0.5532 - accuracy: 0.7582 - val_loss: 0.5430 - val_accuracy: 0.7670\n",
            "Epoch 24/50\n",
            "855/855 [==============================] - 2s 2ms/step - loss: 0.5523 - accuracy: 0.7599 - val_loss: 0.5430 - val_accuracy: 0.7670\n",
            "Epoch 25/50\n",
            "855/855 [==============================] - 2s 2ms/step - loss: 0.5494 - accuracy: 0.7614 - val_loss: 0.5430 - val_accuracy: 0.7670\n",
            "Epoch 26/50\n",
            "855/855 [==============================] - 2s 2ms/step - loss: 0.5702 - accuracy: 0.7613 - val_loss: 0.5430 - val_accuracy: 0.7670\n",
            "Epoch 27/50\n",
            "855/855 [==============================] - 2s 2ms/step - loss: 0.5509 - accuracy: 0.7602 - val_loss: 0.5430 - val_accuracy: 0.7670\n",
            "Epoch 28/50\n",
            "855/855 [==============================] - 2s 2ms/step - loss: 0.5575 - accuracy: 0.7562 - val_loss: 0.5430 - val_accuracy: 0.7670\n",
            "Epoch 29/50\n",
            "855/855 [==============================] - 2s 2ms/step - loss: 0.5516 - accuracy: 0.7596 - val_loss: 0.5430 - val_accuracy: 0.7670\n",
            "Epoch 30/50\n",
            "855/855 [==============================] - 2s 2ms/step - loss: 0.5516 - accuracy: 0.7596 - val_loss: 0.5430 - val_accuracy: 0.7670\n",
            "Epoch 31/50\n",
            "855/855 [==============================] - 2s 2ms/step - loss: 0.5463 - accuracy: 0.7644 - val_loss: 0.5431 - val_accuracy: 0.7670\n",
            "Epoch 32/50\n",
            "855/855 [==============================] - 2s 2ms/step - loss: 0.5510 - accuracy: 0.7601 - val_loss: 0.5430 - val_accuracy: 0.7670\n",
            "Epoch 33/50\n",
            "855/855 [==============================] - 2s 2ms/step - loss: 0.5541 - accuracy: 0.7574 - val_loss: 0.5430 - val_accuracy: 0.7670\n",
            "Epoch 34/50\n",
            "855/855 [==============================] - 2s 2ms/step - loss: 0.7608 - accuracy: 0.7596 - val_loss: 0.5430 - val_accuracy: 0.7670\n",
            "Epoch 35/50\n",
            "855/855 [==============================] - 2s 2ms/step - loss: 0.5549 - accuracy: 0.7567 - val_loss: 0.5429 - val_accuracy: 0.7670\n",
            "Epoch 36/50\n",
            "855/855 [==============================] - 2s 2ms/step - loss: 0.5561 - accuracy: 0.7571 - val_loss: 0.5430 - val_accuracy: 0.7670\n",
            "Epoch 37/50\n",
            "855/855 [==============================] - 2s 2ms/step - loss: 0.5541 - accuracy: 0.7574 - val_loss: 0.5429 - val_accuracy: 0.7670\n",
            "Epoch 38/50\n",
            "855/855 [==============================] - 2s 2ms/step - loss: 0.5526 - accuracy: 0.7590 - val_loss: 0.5429 - val_accuracy: 0.7670\n",
            "Epoch 39/50\n",
            "855/855 [==============================] - 2s 2ms/step - loss: 0.5508 - accuracy: 0.7603 - val_loss: 0.5429 - val_accuracy: 0.7670\n",
            "Epoch 40/50\n",
            "855/855 [==============================] - 2s 2ms/step - loss: 0.5557 - accuracy: 0.7560 - val_loss: 0.5429 - val_accuracy: 0.7670\n",
            "Epoch 41/50\n",
            "855/855 [==============================] - 2s 2ms/step - loss: 0.5546 - accuracy: 0.7604 - val_loss: 0.5430 - val_accuracy: 0.7670\n",
            "Epoch 42/50\n",
            "855/855 [==============================] - 2s 2ms/step - loss: 0.5538 - accuracy: 0.7586 - val_loss: 0.5430 - val_accuracy: 0.7670\n",
            "Epoch 43/50\n",
            "855/855 [==============================] - 2s 2ms/step - loss: 0.5573 - accuracy: 0.7546 - val_loss: 0.5430 - val_accuracy: 0.7670\n",
            "Epoch 44/50\n",
            "855/855 [==============================] - 2s 2ms/step - loss: 0.5443 - accuracy: 0.7658 - val_loss: 0.5431 - val_accuracy: 0.7670\n",
            "Epoch 45/50\n",
            "855/855 [==============================] - 2s 2ms/step - loss: 0.5563 - accuracy: 0.7555 - val_loss: 0.5429 - val_accuracy: 0.7670\n",
            "Epoch 46/50\n",
            "855/855 [==============================] - 2s 2ms/step - loss: 0.5527 - accuracy: 0.7586 - val_loss: 0.5430 - val_accuracy: 0.7670\n",
            "Epoch 47/50\n",
            "855/855 [==============================] - 2s 2ms/step - loss: 0.5499 - accuracy: 0.7610 - val_loss: 0.5430 - val_accuracy: 0.7670\n",
            "Epoch 48/50\n",
            "855/855 [==============================] - 2s 2ms/step - loss: 0.5506 - accuracy: 0.7604 - val_loss: 0.5430 - val_accuracy: 0.7670\n",
            "Epoch 49/50\n",
            "855/855 [==============================] - 2s 2ms/step - loss: 0.5552 - accuracy: 0.7564 - val_loss: 0.5430 - val_accuracy: 0.7670\n",
            "Epoch 50/50\n",
            "855/855 [==============================] - 2s 2ms/step - loss: 0.5570 - accuracy: 0.7548 - val_loss: 0.5429 - val_accuracy: 0.7670\n"
          ],
          "name": "stdout"
        },
        {
          "output_type": "display_data",
          "data": {
            "image/png": "[encoded data removed]",
            "text/plain": [
              "<Figure size 720x360 with 2 Axes>"
            ]
          },
          "metadata": {
            "tags": [],
            "needs_background": "light"
          }
        },
        {
          "output_type": "stream",
          "text": [
            "306/306 [==============================] - 0s 1ms/step - loss: 0.5559 - accuracy: 0.7559\n",
            "------------------------------\n",
            "Test Accuracy\n",
            "------------------------------\n",
            "Deep Learning with Neural Network: 0.7558603882789612\n"
          ],
          "name": "stdout"
        }
      ]
    },
    {
      "cell_type": "code",
      "metadata": {
        "colab": {
          "base_uri": "https://localhost:8080/"
        },
        "id": "KfnfjBoCHha_",
        "outputId": "aefa9869-74fe-413a-9b1c-869241b5237b"
      },
      "source": [
        "# ------------------------------------------------------------------\n",
        "# Appendix. Comparison to other algorithms using Scikit-Learn\n",
        "# refer to https://www.kaggle.com/overload10/income-prediction-on-uci-adult-dataset\n",
        "# ------------------------------------------------------------------\n",
        "# Model. Logistic Regression\n",
        "model = sklearn.linear_model.LogisticRegression()\n",
        "model.fit(X_train, y_train)\n",
        "y_pred = model.predict(X_test)\n",
        "test_acc = sklearn.metrics.accuracy_score(y_test, y_pred)\n",
        "print(\"Logistic Regression:\",test_acc)\n",
        "\n",
        "# Model. Random Forest\n",
        "model = sklearn.ensemble.RandomForestClassifier()\n",
        "model.fit(X_train, y_train)\n",
        "y_pred = model.predict(X_test)\n",
        "test_acc = sklearn.metrics.accuracy_score(y_test, y_pred)\n",
        "print(\"Random Forest:\",test_acc)\n",
        "\n",
        "# Model. Neural Network\n",
        "model = sklearn.neural_network.MLPClassifier()\n",
        "model.fit(X_train, y_train)\n",
        "y_pred = model.predict(X_test)\n",
        "test_acc = sklearn.metrics.accuracy_score(y_test, y_pred)\n",
        "print(\"Neural Network:\",test_acc)\n",
        "\n",
        "# Model. Naive Bayes\n",
        "model = sklearn.naive_bayes.GaussianNB()\n",
        "model.fit(X_train, y_train)\n",
        "y_pred = model.predict(X_test)\n",
        "test_acc = sklearn.metrics.accuracy_score(y_test, y_pred)\n",
        "print(\"Gaussian NB:\",test_acc)\n",
        "\n",
        "# Model. Decision Tree\n",
        "model = sklearn.tree.DecisionTreeClassifier()\n",
        "model.fit(X_train, y_train)\n",
        "y_pred = model.predict(X_test)\n",
        "test_acc = sklearn.metrics.accuracy_score(y_test, y_pred)\n",
        "print(\"Decision Tree Classifier:\",test_acc)\n",
        "\n",
        "# Model. SVM\n",
        "model = sklearn.svm.SVC()\n",
        "model.fit(X_train, y_train)\n",
        "y_pred = model.predict(X_test)\n",
        "test_acc = sklearn.metrics.accuracy_score(y_test, y_pred)\n",
        "print(\"SVM:\",test_acc)\n"
      ],
      "execution_count": 12,
      "outputs": [
        {
          "output_type": "stream",
          "text": [
            "Logistic Regression: 0.7863650322448562\n",
            "Random Forest: 0.8550516941345071\n"
          ],
          "name": "stdout"
        },
        {
          "output_type": "stream",
          "text": [
            "/usr/local/lib/python3.7/dist-packages/sklearn/neural_network/_multilayer_perceptron.py:571: ConvergenceWarning: Stochastic Optimizer: Maximum iterations (200) reached and the optimization hasn't converged yet.\n",
            "  % self.max_iter, ConvergenceWarning)\n"
          ],
          "name": "stderr"
        },
        {
          "output_type": "stream",
          "text": [
            "Neural Network: 0.7988535162247927\n",
            "Gaussian NB: 0.7940423789538336\n",
            "Decision Tree Classifier: 0.8106254478452247\n",
            "SVM: 0.7925069096120381\n"
          ],
          "name": "stdout"
        }
      ]
    }
  ]
}